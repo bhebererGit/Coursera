{
    "cells": [
        {
            "metadata": {
                "collapsed": true
            },
            "cell_type": "markdown",
            "source": "# Introduction/Business Problem\n\n> *The business problem I will be trying to solve with the FourSquare <br>\ndata will be deciding where to open a restaraunt in L.A. County, CA. <br>\nThe customer wants to know where the highest density of restaraunts are <br>\nlocated and how much the median household income is for a 5 mile radius <br>\nof those locations.*\n\n\n# The Data\n\n> *I will be using the FourSquare API to retrieve data on the ammount <br>\nof restaraunts in L.A. County and their locations so I can segment and <br>\ncluster them. I'm then going to try to bring in another set of data that <br>\nhas household income information from a governemnt website.*"
        },
        {
            "metadata": {},
            "cell_type": "code",
            "source": "",
            "execution_count": null,
            "outputs": []
        }
    ],
    "metadata": {
        "kernelspec": {
            "name": "python3",
            "display_name": "Python 3.7",
            "language": "python"
        },
        "language_info": {
            "name": "python",
            "version": "3.7.9",
            "mimetype": "text/x-python",
            "codemirror_mode": {
                "name": "ipython",
                "version": 3
            },
            "pygments_lexer": "ipython3",
            "nbconvert_exporter": "python",
            "file_extension": ".py"
        }
    },
    "nbformat": 4,
    "nbformat_minor": 1
}